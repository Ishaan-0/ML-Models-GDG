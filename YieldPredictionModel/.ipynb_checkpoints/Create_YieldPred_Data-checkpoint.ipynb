{
 "cells": [
  {
   "cell_type": "code",
   "execution_count": 2,
   "id": "9bc952b0-33ff-485a-a7c3-3764ab340e1d",
   "metadata": {},
   "outputs": [],
   "source": [
    "import pandas as pd"
   ]
  },
  {
   "cell_type": "code",
   "execution_count": 4,
   "id": "22de2e68-6108-4288-be3c-f769dfda304c",
   "metadata": {},
   "outputs": [],
   "source": [
    "df = pd.read_csv('ICRISAT District Level Data.csv')"
   ]
  },
  {
   "cell_type": "code",
   "execution_count": 8,
   "id": "41b9c46c-14dd-4e5a-8511-83aee450e117",
   "metadata": {},
   "outputs": [],
   "source": [
    "column_names = df.columns"
   ]
  },
  {
   "cell_type": "code",
   "execution_count": 10,
   "id": "61c3ea5d-3a2c-4e23-b0fe-dda0ecdba41d",
   "metadata": {},
   "outputs": [],
   "source": [
    "crop_cols = []\n",
    "j = 2\n",
    "i = 2\n",
    "while i <54:\n",
    "    crop_name = column_names[i].split()[0]\n",
    "    corresponding_cols = []\n",
    "    count = 1\n",
    "    while count<=3:\n",
    "        corresponding_cols.append(column_names[j])\n",
    "        j += 1\n",
    "        count+=1\n",
    "    crop_cols.append(\n",
    "        (crop_name, corresponding_cols)\n",
    "    )\n",
    "    i += 3"
   ]
  },
  {
   "cell_type": "code",
   "execution_count": 12,
   "id": "31ea7680-1988-4d34-af1e-c8355a823dcf",
   "metadata": {},
   "outputs": [],
   "source": [
    "results = []\n",
    "for crop, cols in crop_cols:\n",
    "        temp_df = df[['Dist Name'] + cols].copy() # Assuming you have District column\n",
    "\n",
    "        temp_df['Crop'] = crop\n",
    "\n",
    "        temp_df = temp_df.rename(columns={cols[0]: 'Area', cols[1]: 'Production', cols[2]: 'Yield'})\n",
    "\n",
    "        results.append(temp_df)\n",
    "\n",
    "combined_df = pd.concat(results, ignore_index=True)\n",
    "\n",
    "average_crop_data = combined_df.groupby(['Dist Name', 'Crop'])[['Area', 'Production', 'Yield']].mean()"
   ]
  },
  {
   "cell_type": "code",
   "execution_count": 14,
   "id": "738ca124-faf1-4842-9e22-52f36b8e2ba3",
   "metadata": {},
   "outputs": [],
   "source": [
    "average_crop_data.to_csv('Yield_Prediction_Data.csv')"
   ]
  }
 ],
 "metadata": {
  "kernelspec": {
   "display_name": "Python 3 (ipykernel)",
   "language": "python",
   "name": "python3"
  },
  "language_info": {
   "codemirror_mode": {
    "name": "ipython",
    "version": 3
   },
   "file_extension": ".py",
   "mimetype": "text/x-python",
   "name": "python",
   "nbconvert_exporter": "python",
   "pygments_lexer": "ipython3",
   "version": "3.12.7"
  }
 },
 "nbformat": 4,
 "nbformat_minor": 5
}
